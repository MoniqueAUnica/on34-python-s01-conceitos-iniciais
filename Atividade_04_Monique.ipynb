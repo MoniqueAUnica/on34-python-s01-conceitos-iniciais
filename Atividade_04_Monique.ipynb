{
  "nbformat": 4,
  "nbformat_minor": 0,
  "metadata": {
    "colab": {
      "provenance": [],
      "authorship_tag": "ABX9TyPTVbDhhwJ9QwsZjqUFB8rn",
      "include_colab_link": true
    },
    "kernelspec": {
      "name": "python3",
      "display_name": "Python 3"
    },
    "language_info": {
      "name": "python"
    }
  },
  "cells": [
    {
      "cell_type": "markdown",
      "metadata": {
        "id": "view-in-github",
        "colab_type": "text"
      },
      "source": [
        "<a href=\"https://colab.research.google.com/github/MoniqueAUnica/on34-python-s01-conceitos-iniciais/blob/main/Atividade_04_Monique.ipynb\" target=\"_parent\"><img src=\"https://colab.research.google.com/assets/colab-badge.svg\" alt=\"Open In Colab\"/></a>"
      ]
    },
    {
      "cell_type": "code",
      "execution_count": 1,
      "metadata": {
        "colab": {
          "base_uri": "https://localhost:8080/"
        },
        "id": "c1diRktVNMzU",
        "outputId": "126da95f-dca4-411d-f585-f35095cea3ba"
      },
      "outputs": [
        {
          "output_type": "stream",
          "name": "stdout",
          "text": [
            "Insira o texto: Se vives de acordo com as leis da natureza, nunca serás pobre; se vives de acordo com as opiniões alheias, nunca serás rico.\n",
            "A palavra 'lei' aparece 0 vezes no texto.\n"
          ]
        }
      ],
      "source": [
        "def contar_ocorrencias(texto, palavra):\n",
        "\n",
        "    # Converte o texto para minúsculas para garantir que a contagem seja case-insensitive\n",
        "\n",
        "    texto = texto.lower()\n",
        "\n",
        "    palavra = palavra.lower()\n",
        "\n",
        "\n",
        "\n",
        "    # Usa um dicionário para contar as ocorrências\n",
        "\n",
        "    contagem = {}\n",
        "\n",
        "\n",
        "\n",
        "    # Divide o texto em palavras\n",
        "\n",
        "    palavras = texto.split()\n",
        "\n",
        "\n",
        "\n",
        "    # Conta as ocorrências de cada palavra\n",
        "\n",
        "    for p in palavras:\n",
        "\n",
        "        if p in contagem:\n",
        "\n",
        "            contagem[p] += 1\n",
        "\n",
        "        else:\n",
        "\n",
        "            contagem[p] = 1\n",
        "\n",
        "\n",
        "\n",
        "    # Retorna a contagem da palavra desejada\n",
        "\n",
        "    return contagem.get(palavra, 0)\n",
        "\n",
        "\n",
        "\n",
        "# Solicita ao usuário que insira o texto\n",
        "\n",
        "texto = input(\"Insira o texto: \")\n",
        "\n",
        "\n",
        "\n",
        "# Define a palavra a ser contada\n",
        "\n",
        "palavra = \"lei\"\n",
        "\n",
        "\n",
        "\n",
        "# Chama a função para contar as ocorrências da palavra no texto inserido pelo usuário\n",
        "\n",
        "ocorrencias = contar_ocorrencias(texto, palavra)\n",
        "\n",
        "\n",
        "\n",
        "# Exibe o resultado\n",
        "\n",
        "print(f\"A palavra '{palavra}' aparece {ocorrencias} vezes no texto.\")"
      ]
    }
  ]
}