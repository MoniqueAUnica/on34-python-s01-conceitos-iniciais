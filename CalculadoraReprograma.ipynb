{
  "nbformat": 4,
  "nbformat_minor": 0,
  "metadata": {
    "colab": {
      "provenance": [],
      "authorship_tag": "ABX9TyM0kwF5m8hWmBObBEMCl1wA",
      "include_colab_link": true
    },
    "kernelspec": {
      "name": "python3",
      "display_name": "Python 3"
    },
    "language_info": {
      "name": "python"
    }
  },
  "cells": [
    {
      "cell_type": "markdown",
      "metadata": {
        "id": "view-in-github",
        "colab_type": "text"
      },
      "source": [
        "<a href=\"https://colab.research.google.com/github/MoniqueAUnica/on34-python-s01-conceitos-iniciais/blob/main/CalculadoraReprograma.ipynb\" target=\"_parent\"><img src=\"https://colab.research.google.com/assets/colab-badge.svg\" alt=\"Open In Colab\"/></a>"
      ]
    },
    {
      "cell_type": "code",
      "source": [
        "\n",
        "def somar(x, y):\n",
        "  return x + y\n",
        "\n",
        "def subtrair(x, y):\n",
        "  return x - y\n",
        "\n",
        "def multiplicar(x, y):\n",
        "  return x * y\n",
        "\n",
        "def dividir(x, y):\n",
        "  if y != 0:\n",
        "    return x / y\n",
        "  else:\n",
        "    return \"Divisão por zero não é permitida.\"\n",
        "\n",
        "def potenciacao(x, y):\n",
        "  return x ** y\n",
        "\n",
        "def eh_impar(numero):\n",
        "  return numero % 2 != 0\n",
        "\n",
        "def main():\n",
        "  try:\n",
        "    x = float(input(\"Digite o primeiro número: \"))\n",
        "    y = float(input(\"Digite o segundo número: \"))\n",
        "  except ValueError:\n",
        "    print(\"Por favor, insira números válidos.\")\n",
        "    return\n",
        "\n",
        "  soma = somar(x, y)\n",
        "  subtracao = subtrair(x, y)\n",
        "  multiplicacao = multiplicar(x, y)\n",
        "  divisao = dividir(x, y)\n",
        "  potencia = potenciacao(x, y)\n",
        "\n",
        "  print(f\"Soma: {soma} {'(ímpar)' if eh_impar(soma) else '(par)'}\")\n",
        "  print(f\"Subtração: {subtracao} {'(ímpar)' if eh_impar(subtracao) else '(par)'}\")\n",
        "  print(f\"Multiplicação: {multiplicacao} {'(ímpar)' if eh_impar(multiplicacao) else '(par)'}\")\n",
        "  print(f\"Divisão: {divisao} {'(ímpar)' if isinstance(divisao, (int, float)) and eh_impar(divisao) else '(par)'}\")\n",
        "  print(f\"Potenciação: {potencia} {'(ímpar)' if eh_impar(potencia) else '(par)'}\")\n",
        "\n",
        "if __name__ == \"__main__\":\n",
        "    main()"
      ],
      "metadata": {
        "colab": {
          "base_uri": "https://localhost:8080/"
        },
        "id": "l8z5OZ6bL9qI",
        "outputId": "6564521e-6c3d-4406-c6b5-8161f3986090"
      },
      "execution_count": 2,
      "outputs": [
        {
          "output_type": "stream",
          "name": "stdout",
          "text": [
            "Digite o primeiro número: 7\n",
            "Digite o segundo número: 8\n",
            "Soma: 15.0 (ímpar)\n",
            "Subtração: -1.0 (ímpar)\n",
            "Multiplicação: 56.0 (par)\n",
            "Divisão: 0.875 (ímpar)\n",
            "Potenciação: 5764801.0 (ímpar)\n"
          ]
        }
      ]
    }
  ]
}