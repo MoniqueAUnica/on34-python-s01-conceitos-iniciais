{
  "nbformat": 4,
  "nbformat_minor": 0,
  "metadata": {
    "colab": {
      "provenance": [],
      "authorship_tag": "ABX9TyORwu+Q0dkVK1PNJHuzCg1f",
      "include_colab_link": true
    },
    "kernelspec": {
      "name": "python3",
      "display_name": "Python 3"
    },
    "language_info": {
      "name": "python"
    }
  },
  "cells": [
    {
      "cell_type": "markdown",
      "metadata": {
        "id": "view-in-github",
        "colab_type": "text"
      },
      "source": [
        "<a href=\"https://colab.research.google.com/github/MoniqueAUnica/on34-python-s01-conceitos-iniciais/blob/main/Atividade_3_Monique.ipynb\" target=\"_parent\"><img src=\"https://colab.research.google.com/assets/colab-badge.svg\" alt=\"Open In Colab\"/></a>"
      ]
    },
    {
      "cell_type": "code",
      "execution_count": 2,
      "metadata": {
        "colab": {
          "base_uri": "https://localhost:8080/"
        },
        "id": "lEIX9UCTH4i2",
        "outputId": "85f5071a-fb43-496c-d6b5-79d47218daf8"
      },
      "outputs": [
        {
          "output_type": "stream",
          "name": "stdout",
          "text": [
            "Digite a distância da viagem em km: 48\n",
            "A distância mínima para calcular a viagem é 50km. Tente novamente.\n",
            "Digite a distância da viagem em km: -4\n",
            "A distância mínima para calcular a viagem é 50km. Tente novamente.\n",
            "Digite a distância da viagem em km: a\n",
            "Entrada inválida. Por favor, insira um número válido.\n",
            "Digite a distância da viagem em km: !\n",
            "Entrada inválida. Por favor, insira um número válido.\n",
            "Digite a distância da viagem em km: 100\n",
            "Sua viagem com 100.0 km custará R$ 95.00\n"
          ]
        }
      ],
      "source": [
        "def calcular_valor_viagem(kms):\n",
        "    custo_base = 20.00\n",
        "    if kms <= 200:\n",
        "        valor_por_km = 0.75\n",
        "    elif kms <= 500:\n",
        "        valor_por_km = 0.60\n",
        "    else:\n",
        "        valor_por_km = 0.50\n",
        "    valor_total = custo_base + (valor_por_km * kms)\n",
        "    return valor_total\n",
        "\n",
        "def main():\n",
        "    while True:\n",
        "        try:\n",
        "            kms = float(input(\"Digite a distância da viagem em km: \"))\n",
        "            if kms < 50:\n",
        "                print(\"A distância mínima para calcular a viagem é 50km. Tente novamente.\")\n",
        "                continue\n",
        "            elif kms < 0:\n",
        "                print(\"A distância não pode ser negativa. Tente novamente.\")\n",
        "                continue\n",
        "            valor_total = calcular_valor_viagem(kms)\n",
        "            print(f\"Sua viagem com {kms} km custará R$ {valor_total:.2f}\")\n",
        "            break\n",
        "        except ValueError:\n",
        "            print(\"Entrada inválida. Por favor, insira um número válido.\")\n",
        "\n",
        "if __name__ == \"__main__\":\n",
        "    main()"
      ]
    }
  ]
}